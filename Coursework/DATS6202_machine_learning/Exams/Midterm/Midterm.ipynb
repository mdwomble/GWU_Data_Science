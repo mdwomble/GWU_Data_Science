{
 "cells": [
  {
   "cell_type": "markdown",
   "metadata": {
    "id": "0QJDNuifaIwP",
    "toc": true
   },
   "source": [
    "<h1>Table of Contents<span class=\"tocSkip\"></span></h1>\n",
    "<div class=\"toc\"><ul class=\"toc-item\"><li><span><a href=\"#Overview\" data-toc-modified-id=\"Overview-1\"><span class=\"toc-item-num\">1&nbsp;&nbsp;</span>Overview</a></span></li><li><span><a href=\"#Notebook-Configuration\" data-toc-modified-id=\"Notebook-Configuration-2\"><span class=\"toc-item-num\">2&nbsp;&nbsp;</span>Notebook Configuration</a></span><ul class=\"toc-item\"><li><span><a href=\"#Google-drive\" data-toc-modified-id=\"Google-drive-2.1\"><span class=\"toc-item-num\">2.1&nbsp;&nbsp;</span>Google drive</a></span></li><li><span><a href=\"#Warning\" data-toc-modified-id=\"Warning-2.2\"><span class=\"toc-item-num\">2.2&nbsp;&nbsp;</span>Warning</a></span></li><li><span><a href=\"#Matplotlib\" data-toc-modified-id=\"Matplotlib-2.3\"><span class=\"toc-item-num\">2.3&nbsp;&nbsp;</span>Matplotlib</a></span></li><li><span><a href=\"#TensorFlow\" data-toc-modified-id=\"TensorFlow-2.4\"><span class=\"toc-item-num\">2.4&nbsp;&nbsp;</span>TensorFlow</a></span></li><li><span><a href=\"#Random-seed\" data-toc-modified-id=\"Random-seed-2.5\"><span class=\"toc-item-num\">2.5&nbsp;&nbsp;</span>Random seed</a></span></li></ul></li><li><span><a href=\"#Data-Preprocessing\" data-toc-modified-id=\"Data-Preprocessing-3\"><span class=\"toc-item-num\">3&nbsp;&nbsp;</span>Data Preprocessing</a></span></li><li><span><a href=\"#Hyperparameter-Tuning\" data-toc-modified-id=\"Hyperparameter-Tuning-4\"><span class=\"toc-item-num\">4&nbsp;&nbsp;</span>Hyperparameter Tuning</a></span></li><li><span><a href=\"#Model-Selection\" data-toc-modified-id=\"Model-Selection-5\"><span class=\"toc-item-num\">5&nbsp;&nbsp;</span>Model Selection</a></span></li><li><span><a href=\"#Generating-the-Submission-File\" data-toc-modified-id=\"Generating-the-Submission-File-6\"><span class=\"toc-item-num\">6&nbsp;&nbsp;</span>Generating the Submission File</a></span><ul class=\"toc-item\"><li><span><a href=\"#Creating-the-directory-for-the-submission-file\" data-toc-modified-id=\"Creating-the-directory-for-the-submission-file-6.1\"><span class=\"toc-item-num\">6.1&nbsp;&nbsp;</span>Creating the directory for the submission file</a></span></li><li><span><a href=\"#Generating-the-submission-file\" data-toc-modified-id=\"Generating-the-submission-file-6.2\"><span class=\"toc-item-num\">6.2&nbsp;&nbsp;</span>Generating the submission file</a></span></li></ul></li></ul></div>"
   ]
  },
  {
   "cell_type": "markdown",
   "metadata": {
    "id": "42yc1zUrzlEh"
   },
   "source": [
    "<b>\n",
    "<p>\n",
    "<center>\n",
    "<font size=\"5\">\n",
    "Popular Machine Learning Methods: Idea, Practice and Math\n",
    "</font>\n",
    "</center>\n",
    "</p>\n",
    "    \n",
    "<p>\n",
    "<center>\n",
    "<font size=\"4\">\n",
    "Midterm\n",
    "</font>\n",
    "</center>\n",
    "</p>\n",
    "\n",
    "<p>\n",
    "<center>\n",
    "<font size=\"3\">\n",
    "Data Science, Columbian College of Arts & Sciences, George Washington University\n",
    "</font>\n",
    "</center>\n",
    "</p>\n",
    "\n",
    "<p>\n",
    "<center>\n",
    "<font size=\"3\">\n",
    "Yuxiao Huang\n",
    "</font>\n",
    "</center>\n",
    "</p>\n",
    "</b>"
   ]
  },
  {
   "cell_type": "markdown",
   "metadata": {
    "id": "rT2SKHw2zlEi"
   },
   "source": [
    "# Overview"
   ]
  },
  {
   "cell_type": "markdown",
   "metadata": {
    "id": "asZWLrJKzlEj"
   },
   "source": [
    "- This notebook includes the midterm.\n",
    "- Here we will work on kaggle competation [Poker Rule Induction dataset](https://www.kaggle.com/c/poker-rule-induction).\n",
    "- The goal of this midterm is tweaking the pipeline (including data preprocessing, hyperparameter tuning and model selection) implemented in [/p2 c2 s4 shallow neural_networks/case_study](https://github.com/yuxiaohuang/teaching/blob/master/gwu/machine_learning_I/spring_2022/code/p2_shallow_learning/p2_c2_supervised_learning/p2_c2_s4_shallow_neural_networks/case_study/case_study.ipynb) to make it work for the new kaggle competation mentioned above.\n",
    "- Complete the missing parts indicated by # Implement me.\n",
    "- Particularly, the code should\n",
    "    - be bug-free (note that the output produced by your solution may not necessarily be the same as the provided output, due to version issues)\n",
    "    - be commented\n",
    "- **The baseline for this assignment is 0.137729. As per the grading rubrics (section 15 of the syllabus), if the validation score of your best model is lower than or the same as the baseline, you will only receive 80% of the full mark. See more details in the grading rubrics.**\n",
    "- Submit an ipynb file named midterm.ipynb to [blackboard](https://blackboard.gwu.edu) folder /Exams/midterm/."
   ]
  },
  {
   "cell_type": "markdown",
   "metadata": {
    "id": "WJ-IbZqAgILJ"
   },
   "source": [
    "# Notebook Configuration"
   ]
  },
  {
   "cell_type": "markdown",
   "metadata": {
    "id": "H3yB94KtgMHu"
   },
   "source": [
    "## Google drive"
   ]
  },
  {
   "cell_type": "code",
   "execution_count": null,
   "metadata": {
    "colab": {
     "base_uri": "https://localhost:8080/",
     "height": 34
    },
    "executionInfo": {
     "elapsed": 27154,
     "status": "ok",
     "timestamp": 1603065545173,
     "user": {
      "displayName": "Huang Yuxiao",
      "photoUrl": "",
      "userId": "05167076769245149404"
     },
     "user_tz": 240
    },
    "id": "jWmYBTOwgNs-",
    "outputId": "e751428d-3d5f-4df0-e3cb-8923164ba5a5"
   },
   "outputs": [
    {
     "name": "stdout",
     "output_type": "stream",
     "text": [
      "Mounted at /content/drive\n"
     ]
    }
   ],
   "source": [
    "from google.colab import drive\n",
    "import sys\n",
    "\n",
    "# Mount Google Drive\n",
    "drive.mount('/content/drive')\n",
    "\n",
    "# Get the absolute path of the current folder\n",
    "abspath_curr = '/content/drive/My Drive/Colab Notebooks/teaching/gwu/machine_learning_I/exam/midterm/'\n",
    "\n",
    "# Get the absolute path of the shallow utilities folder\n",
    "abspath_util_shallow = '/content/drive/My Drive/Colab Notebooks/teaching/gwu/machine_learning_I/code/utilities/p2_shallow_learning/'\n",
    "\n",
    "# Get the absolute path of the shallow models folder\n",
    "abspath_model_shallow = '/content/drive/My Drive/Colab Notebooks/teaching/gwu/machine_learning_I/code/models/p2_shallow_learning/'"
   ]
  },
  {
   "cell_type": "markdown",
   "metadata": {
    "id": "bYZhU1Wqgmqx"
   },
   "source": [
    "## Warning"
   ]
  },
  {
   "cell_type": "code",
   "execution_count": null,
   "metadata": {
    "id": "MUl4k83e4ANR"
   },
   "outputs": [],
   "source": [
    "import warnings\n",
    "\n",
    "# Ignore warnings\n",
    "warnings.filterwarnings('ignore')"
   ]
  },
  {
   "cell_type": "markdown",
   "metadata": {
    "id": "6WMODpPfgn2U"
   },
   "source": [
    "## Matplotlib"
   ]
  },
  {
   "cell_type": "code",
   "execution_count": null,
   "metadata": {
    "id": "DBRVH9SB4ANb"
   },
   "outputs": [],
   "source": [
    "import matplotlib.pyplot as plt\n",
    "%matplotlib inline \n",
    "\n",
    "# Set matplotlib sizes\n",
    "plt.rc('font', size=20)\n",
    "plt.rc('axes', titlesize=20)\n",
    "plt.rc('axes', labelsize=20)\n",
    "plt.rc('xtick', labelsize=20)\n",
    "plt.rc('ytick', labelsize=20)\n",
    "plt.rc('legend', fontsize=20)\n",
    "plt.rc('figure', titlesize=20)"
   ]
  },
  {
   "cell_type": "markdown",
   "metadata": {
    "id": "n-wNDk5nZhhO"
   },
   "source": [
    "## TensorFlow"
   ]
  },
  {
   "cell_type": "code",
   "execution_count": null,
   "metadata": {
    "id": "LjG43tEnZkfE"
   },
   "outputs": [],
   "source": [
    "# The magic below allows us to use tensorflow version 2.x\n",
    "%tensorflow_version 2.x \n",
    "import tensorflow as tf\n",
    "from tensorflow import keras"
   ]
  },
  {
   "cell_type": "markdown",
   "metadata": {
    "id": "40FN3UNfO2Z7"
   },
   "source": [
    "## Random seed"
   ]
  },
  {
   "cell_type": "code",
   "execution_count": null,
   "metadata": {
    "id": "uSADk0hJP71d"
   },
   "outputs": [],
   "source": [
    "# The random seed\n",
    "random_seed = 42\n",
    "\n",
    "# Set random seed in tensorflow\n",
    "tf.random.set_seed(random_seed)\n",
    "\n",
    "# Set random seed in numpy\n",
    "import numpy as np\n",
    "np.random.seed(random_seed)"
   ]
  },
  {
   "cell_type": "markdown",
   "metadata": {
    "id": "yAwfz8iYzlFC"
   },
   "source": [
    "# Data Preprocessing"
   ]
  },
  {
   "cell_type": "code",
   "execution_count": null,
   "metadata": {
    "colab": {
     "base_uri": "https://localhost:8080/",
     "height": 34
    },
    "executionInfo": {
     "elapsed": 30646,
     "status": "ok",
     "timestamp": 1603065548727,
     "user": {
      "displayName": "Huang Yuxiao",
      "photoUrl": "",
      "userId": "05167076769245149404"
     },
     "user_tz": 240
    },
    "id": "D-Mwc6MczlFD",
    "outputId": "41fca62f-6322-4318-94f6-9cdd0e12df8b"
   },
   "outputs": [
    {
     "name": "stdout",
     "output_type": "stream",
     "text": [
      "/content/drive/My Drive/Colab Notebooks/teaching/gwu/machine_learning_I/code/utilities/p2_shallow_learning\n"
     ]
    }
   ],
   "source": [
    "# Change working directory to the absolute path of the shallow utilities folder\n",
    "%cd $abspath_util_shallow\n",
    "\n",
    "# Import the shallow utitilities\n",
    "%run pmlm_utilities_shallow.ipynb"
   ]
  },
  {
   "cell_type": "code",
   "execution_count": null,
   "metadata": {
    "id": "oIKMwRk6Wyi0"
   },
   "outputs": [],
   "source": [
    "# Implement me"
   ]
  },
  {
   "cell_type": "markdown",
   "metadata": {
    "id": "Of56ObPGe31x"
   },
   "source": [
    "# Hyperparameter Tuning"
   ]
  },
  {
   "cell_type": "code",
   "execution_count": null,
   "metadata": {
    "id": "2ICnjl3Olx_I"
   },
   "outputs": [],
   "source": [
    "# Implement me"
   ]
  },
  {
   "cell_type": "markdown",
   "metadata": {
    "id": "kOF6id8le32I"
   },
   "source": [
    "# Model Selection"
   ]
  },
  {
   "cell_type": "code",
   "execution_count": null,
   "metadata": {
    "id": "HSjxOgI7Wyi1"
   },
   "outputs": [],
   "source": [
    "# Implement me"
   ]
  },
  {
   "cell_type": "markdown",
   "metadata": {
    "id": "fiEBpqc_e32K"
   },
   "source": [
    "# Generating the Submission File\n",
    "Use the best model selected earlier to generate the submission file for this kaggle competition."
   ]
  },
  {
   "cell_type": "markdown",
   "metadata": {
    "id": "Aw5WYTRGz65s"
   },
   "source": [
    "## Creating the directory for the submission file"
   ]
  },
  {
   "cell_type": "code",
   "execution_count": null,
   "metadata": {
    "id": "z0oLcggN0C9W"
   },
   "outputs": [],
   "source": [
    "# Make directory\n",
    "directory = os.path.dirname(abspath_curr + '/result/submission/')\n",
    "if not os.path.exists(directory):\n",
    "    os.makedirs(directory)"
   ]
  },
  {
   "cell_type": "markdown",
   "metadata": {
    "id": "y-Qf_8VM0Tt9"
   },
   "source": [
    "## Generating the submission file"
   ]
  },
  {
   "cell_type": "code",
   "execution_count": null,
   "metadata": {
    "id": "mVdD3N0re32L",
    "scrolled": true
   },
   "outputs": [],
   "source": [
    "# Get the prediction on the testing data using best_model\n",
    "y_test_pred = best_estimator_gs.predict(X_test)\n",
    "\n",
    "# Transform y_test_pred back to the original class\n",
    "y_test_pred = le.inverse_transform(y_test_pred)\n",
    "\n",
    "# Get the submission dataframe\n",
    "df_submit = pd.DataFrame(np.hstack((np.arange(1, y_test_pred.shape[0] + 1).reshape(-1, 1), y_test_pred.reshape(-1, 1))),\n",
    "                         columns=['id', target]).astype({'id':int, target:int})                                                                                      \n",
    "\n",
    "# Generate the submission file\n",
    "df_submit.to_csv(abspath_curr + '/result/submission/submission.csv', index=False)                                                                              "
   ]
  }
 ],
 "metadata": {
  "colab": {
   "collapsed_sections": [],
   "name": "Midterm.ipynb",
   "provenance": []
  },
  "kernelspec": {
   "display_name": "Python 3 (ipykernel)",
   "language": "python",
   "name": "python3"
  },
  "language_info": {
   "codemirror_mode": {
    "name": "ipython",
    "version": 3
   },
   "file_extension": ".py",
   "mimetype": "text/x-python",
   "name": "python",
   "nbconvert_exporter": "python",
   "pygments_lexer": "ipython3",
   "version": "3.9.7"
  },
  "toc": {
   "base_numbering": 1,
   "nav_menu": {},
   "number_sections": true,
   "sideBar": true,
   "skip_h1_title": false,
   "title_cell": "Table of Contents",
   "title_sidebar": "Contents",
   "toc_cell": true,
   "toc_position": {},
   "toc_section_display": true,
   "toc_window_display": false
  }
 },
 "nbformat": 4,
 "nbformat_minor": 1
}
